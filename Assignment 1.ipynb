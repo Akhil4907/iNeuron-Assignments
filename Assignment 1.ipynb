{
 "cells": [
  {
   "cell_type": "markdown",
   "id": "91f68876",
   "metadata": {},
   "source": [
    "Q1.\n",
    "       ( *, -, /, +) = expressions\n",
    "       ( 'hello' , -87.8, 6) = values\n",
    "   "
   ]
  },
  {
   "cell_type": "markdown",
   "id": "9e9ff6e1",
   "metadata": {},
   "source": [
    "Q2. A string is an information that is stored in a variable.It is usually words enclosed in single,double or triple quotes.eg: 'hello world'.                                                     A variable is something that stores an information.eg a = \"hello\", here 'a' is the variable that stores the string \"hello'"
   ]
  },
  {
   "cell_type": "markdown",
   "id": "cbfeb20d",
   "metadata": {},
   "source": [
    "Q3. 1: INTEGERS(int)= it represents all the integers. eg: 1, 234, -56 etc\n",
    "    2: STRINGS(str)= it represents all the characters .It is represented using single, double or triple quotes. eg: :'hai', \" hello world\", \"123hai\" etc"
   ]
  },
  {
   "cell_type": "markdown",
   "id": "1ce515ef",
   "metadata": {},
   "source": [
    "Q4. Expression is made up of values and operators that is interpreted to produce a value.All expression produces a value"
   ]
  },
  {
   "cell_type": "markdown",
   "id": "948c87fd",
   "metadata": {},
   "source": [
    "Q5. An expression is the combination of values and operators that produce a value. eg: 1+2, \"hai\"+ \"hello\"\n",
    "    A statement is a instruction that does something. eg: print('hello')"
   ]
  },
  {
   "cell_type": "markdown",
   "id": "ea89b132",
   "metadata": {},
   "source": [
    "Q6. bacon = 23"
   ]
  },
  {
   "cell_type": "markdown",
   "id": "cad7c556",
   "metadata": {},
   "source": [
    "Q7. 'spam'+'spamspam' = spamspamsspam\n",
    "     'spam; * 3 = spamspamspam"
   ]
  },
  {
   "cell_type": "markdown",
   "id": "0af6968d",
   "metadata": {},
   "source": [
    "Q8. eggs is a valid variable because it is all alphabets and it is not starting with a digit.\n",
    "    100 is not a valid variable because it is starting with a digit .Because a variable cannot start with a digit"
   ]
  },
  {
   "cell_type": "markdown",
   "id": "089462d9",
   "metadata": {},
   "source": [
    "Q9. The int() , float(), str() can be used to get the integer, floating-point numberand string version of a value respectively"
   ]
  },
  {
   "cell_type": "markdown",
   "id": "bcccccc9",
   "metadata": {},
   "source": [
    "Q10. The expression causes an error because only an integer cannot be concatenated to a string using + operator.\n",
    "Here corrected statement would be 'i have eaten'+'99'+'burritos'."
   ]
  }
 ],
 "metadata": {
  "kernelspec": {
   "display_name": "Python 3 (ipykernel)",
   "language": "python",
   "name": "python3"
  },
  "language_info": {
   "codemirror_mode": {
    "name": "ipython",
    "version": 3
   },
   "file_extension": ".py",
   "mimetype": "text/x-python",
   "name": "python",
   "nbconvert_exporter": "python",
   "pygments_lexer": "ipython3",
   "version": "3.9.12"
  }
 },
 "nbformat": 4,
 "nbformat_minor": 5
}
