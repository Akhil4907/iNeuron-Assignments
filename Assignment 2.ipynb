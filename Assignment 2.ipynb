{
 "cells": [
  {
   "cell_type": "code",
   "execution_count": null,
   "id": "7c9bd32b",
   "metadata": {},
   "outputs": [],
   "source": [
    "1. The two values of the Boolean data type are \"True\" and \"False\"."
   ]
  },
  {
   "cell_type": "code",
   "execution_count": 14,
   "id": "a2add620",
   "metadata": {},
   "outputs": [
    {
     "name": "stdout",
     "output_type": "stream",
     "text": [
      "True\n",
      "False\n"
     ]
    }
   ],
   "source": [
    "    a = True\n",
    "    b = False\n",
    "    print(a)\n",
    "    print(b)"
   ]
  },
  {
   "cell_type": "code",
   "execution_count": null,
   "id": "3d208030",
   "metadata": {},
   "outputs": [],
   "source": [
    "2. The three different types of boolean operators are:\n",
    "   and\n",
    "   not\n",
    "   or"
   ]
  },
  {
   "cell_type": "code",
   "execution_count": null,
   "id": "17b1664a",
   "metadata": {},
   "outputs": [],
   "source": [
    "3. TRUTH TABLE:\n",
    "    True and True is True\n",
    "    True and False is False\n",
    "    False and False is False\n",
    "    True or True is True\n",
    "    True or False is True\n",
    "    False or False is False\n",
    "    not True is False\n",
    "    not False is True"
   ]
  },
  {
   "cell_type": "code",
   "execution_count": null,
   "id": "764187e1",
   "metadata": {},
   "outputs": [],
   "source": [
    "4. False\n",
    "   False\n",
    "   True\n",
    "   False\n",
    "   False\n",
    "   True"
   ]
  },
  {
   "cell_type": "code",
   "execution_count": null,
   "id": "f1ed15f0",
   "metadata": {},
   "outputs": [],
   "source": [
    "5.The six comparison operators are:\n",
    "    ==\n",
    "    <\n",
    "    >\n",
    "    <=\n",
    "    >=\n",
    "    =!"
   ]
  },
  {
   "cell_type": "code",
   "execution_count": null,
   "id": "5e472174",
   "metadata": {},
   "outputs": [],
   "source": [
    "6. equal to operator(==) is used to compare two values and gives a boolean value eg:print(5==5),Here it will give the output as True.\n",
    "\n",
    "   Assignment operator(=) is used to store the value of a variable eg: a=5\n"
   ]
  },
  {
   "cell_type": "code",
   "execution_count": null,
   "id": "43c7487a",
   "metadata": {},
   "outputs": [],
   "source": [
    "7.\n",
    "  spam = 0\n",
    "  if spam == 10:\n",
    "     print(\"eggs\")    # block 1\n",
    "  if spam > 5:\n",
    "     print(\"bacon\")   # block 2\n",
    "  else:\n",
    "      print(\"ham\")    # block 3\n",
    "      print(\"spam\")\n",
    "      print(\"spam\")"
   ]
  },
  {
   "cell_type": "raw",
   "id": "4ad03f69",
   "metadata": {},
   "source": []
  },
  {
   "cell_type": "code",
   "execution_count": 15,
   "id": "14aa632e",
   "metadata": {},
   "outputs": [
    {
     "name": "stdout",
     "output_type": "stream",
     "text": [
      "enter any number: 1\n",
      "Hello\n"
     ]
    }
   ],
   "source": [
    "8.\n",
    "spam = int(input(\"enter any number: \"))\n",
    "if spam == 1:\n",
    "    print(\"Hello\")\n",
    "elif spam == 2:\n",
    "    print(\"Howdy\")\n",
    "else:\n",
    "    print(\"Greetings\")\n"
   ]
  },
  {
   "cell_type": "code",
   "execution_count": null,
   "id": "5ba254e7",
   "metadata": {},
   "outputs": [],
   "source": [
    "9. If any programme is stuck in an endless loop then we will press  \"ctrl+C\""
   ]
  },
  {
   "cell_type": "code",
   "execution_count": null,
   "id": "c22080dd",
   "metadata": {},
   "outputs": [],
   "source": [
    "10. break statement will end the execution of the loop and will move to the next loop.\n",
    "    continue statement will skip the current iteration and will execute the next iteration in the loop"
   ]
  },
  {
   "cell_type": "code",
   "execution_count": null,
   "id": "049fa5f8",
   "metadata": {},
   "outputs": [],
   "source": [
    "11.There is no difference between range(10), range(0,10) and\n",
    "    range(0,10,1).All of them will give numbers from 0 to 9 as the output"
   ]
  },
  {
   "cell_type": "code",
   "execution_count": 16,
   "id": "2e374ec3",
   "metadata": {},
   "outputs": [
    {
     "name": "stdout",
     "output_type": "stream",
     "text": [
      "using for loop\n",
      "1\n",
      "2\n",
      "3\n",
      "4\n",
      "5\n",
      "6\n",
      "7\n",
      "8\n",
      "9\n",
      "10\n",
      "using while loop\n",
      "1\n",
      "2\n",
      "3\n",
      "4\n",
      "5\n",
      "6\n",
      "7\n",
      "8\n",
      "9\n",
      "10\n"
     ]
    }
   ],
   "source": [
    "12.\n",
    "# Using for loop\n",
    "print(\"using for loop\")\n",
    "for i in range(1,11):\n",
    "    print(i)\n",
    "    \n",
    "\n",
    "    \n",
    "# Using while loop\n",
    "print(\"using while loop\")\n",
    "a = 1\n",
    "while a < 11:\n",
    "    print(a)\n",
    "    a+=1\n",
    "\n",
    "    \n"
   ]
  },
  {
   "cell_type": "code",
   "execution_count": null,
   "id": "07aa3904",
   "metadata": {},
   "outputs": [],
   "source": [
    "13.spam.bacon()"
   ]
  },
  {
   "cell_type": "code",
   "execution_count": null,
   "id": "4c784e5d",
   "metadata": {},
   "outputs": [],
   "source": []
  }
 ],
 "metadata": {
  "kernelspec": {
   "display_name": "Python 3 (ipykernel)",
   "language": "python",
   "name": "python3"
  },
  "language_info": {
   "codemirror_mode": {
    "name": "ipython",
    "version": 3
   },
   "file_extension": ".py",
   "mimetype": "text/x-python",
   "name": "python",
   "nbconvert_exporter": "python",
   "pygments_lexer": "ipython3",
   "version": "3.9.12"
  }
 },
 "nbformat": 4,
 "nbformat_minor": 5
}
