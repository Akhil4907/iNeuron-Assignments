{
 "cells": [
  {
   "cell_type": "raw",
   "id": "5bbb2213",
   "metadata": {},
   "source": [
    "1. The two values of the Boolean data type are \"True\" and \"False\"."
   ]
  },
  {
   "cell_type": "code",
   "execution_count": 1,
   "id": "1d0ac9f2",
   "metadata": {},
   "outputs": [
    {
     "name": "stdout",
     "output_type": "stream",
     "text": [
      "True\n",
      "False\n"
     ]
    }
   ],
   "source": [
    "    a = True\n",
    "    b = False\n",
    "    print(a)\n",
    "    print(b)"
   ]
  },
  {
   "cell_type": "raw",
   "id": "1c3eb683",
   "metadata": {},
   "source": [
    "2. The three different types of boolean operators are:\n",
    "   and\n",
    "   not\n",
    "   or"
   ]
  },
  {
   "cell_type": "raw",
   "id": "b692b483",
   "metadata": {},
   "source": [
    "3. TRUTH TABLE:\n",
    "    True and True is True\n",
    "    True and False is False\n",
    "    False and False is False\n",
    "    True or True is True\n",
    "    True or False is True\n",
    "    False or False is False\n",
    "    not True is False\n",
    "    not False is True"
   ]
  },
  {
   "cell_type": "raw",
   "id": "1a1f7470",
   "metadata": {},
   "source": [
    "4. False\n",
    "   False\n",
    "   True\n",
    "   False\n",
    "   False\n",
    "   True"
   ]
  },
  {
   "cell_type": "raw",
   "id": "e4ebaac2",
   "metadata": {},
   "source": [
    "5.The six comparison operators are:\n",
    "    ==\n",
    "    <\n",
    "    >\n",
    "    <=\n",
    "    >=\n",
    "    =!"
   ]
  },
  {
   "cell_type": "raw",
   "id": "436f0700",
   "metadata": {},
   "source": [
    "6. equal to operator(==) is used to compare two values and gives a boolean      value eg:print(5==5),Here it will give the output as True.\n",
    "\n",
    "   Assignment operator(=) is used to store the value of a variable eg: a=5\n"
   ]
  },
  {
   "cell_type": "raw",
   "id": "e88128a3",
   "metadata": {},
   "source": [
    "7.\n",
    "  spam = 0\n",
    "  if spam == 10:\n",
    "     print(\"eggs\")    # block 1\n",
    "  if spam > 5:\n",
    "     print(\"bacon\")   # block 2\n",
    "  else:\n",
    "      print(\"ham\")    # block 3\n",
    "      print(\"spam\")\n",
    "      print(\"spam\")"
   ]
  },
  {
   "cell_type": "raw",
   "id": "ddce5876",
   "metadata": {},
   "source": []
  },
  {
   "cell_type": "code",
   "execution_count": 13,
   "id": "fbd57b7c",
   "metadata": {},
   "outputs": [
    {
     "name": "stdout",
     "output_type": "stream",
     "text": [
      "enter any number: 1\n",
      "Hello\n"
     ]
    }
   ],
   "source": [
    "8.\n",
    "spam = int(input(\"enter any number: \"))\n",
    "if spam == 1:\n",
    "    print(\"Hello\")\n",
    "elif spam == 2:\n",
    "    print(\"Howdy\")\n",
    "else:\n",
    "    print(\"Greetings\")\n"
   ]
  },
  {
   "cell_type": "raw",
   "id": "1ed0e6b6",
   "metadata": {},
   "source": [
    "9. If any programme is stuck in an endless loop then we will press  \"ctrl+C\""
   ]
  },
  {
   "cell_type": "raw",
   "id": "6ce70d92",
   "metadata": {},
   "source": [
    "10. break statement will end the execution of the loop and will move to the next loop.\n",
    "    continue statement will skip the current iteration and will execute the next iteration in the loop"
   ]
  },
  {
   "cell_type": "raw",
   "id": "79f1acba",
   "metadata": {},
   "source": [
    "11.There is no difference between range(10), range(0,10) and\n",
    "    range(0,10,1).All of them will give numbers from 0 to 9 as the output"
   ]
  },
  {
   "cell_type": "code",
   "execution_count": 12,
   "id": "1aae00f8",
   "metadata": {},
   "outputs": [
    {
     "name": "stdout",
     "output_type": "stream",
     "text": [
      "using for loop\n",
      "1\n",
      "2\n",
      "3\n",
      "4\n",
      "5\n",
      "6\n",
      "7\n",
      "8\n",
      "9\n",
      "10\n",
      "using while loop\n",
      "1\n",
      "2\n",
      "3\n",
      "4\n",
      "5\n",
      "6\n",
      "7\n",
      "8\n",
      "9\n",
      "10\n"
     ]
    }
   ],
   "source": [
    "12.\n",
    "# Using for loop\n",
    "print(\"using for loop\")\n",
    "for i in range(1,11):\n",
    "    print(i)\n",
    "    \n",
    "\n",
    "    \n",
    "# Using while loop\n",
    "print(\"using while loop\")\n",
    "a = 1\n",
    "while a < 11:\n",
    "    print(a)\n",
    "    a+=1\n",
    "\n",
    "    \n"
   ]
  },
  {
   "cell_type": "raw",
   "id": "80c904be",
   "metadata": {},
   "source": [
    "13.spam.bacon()"
   ]
  }
 ],
 "metadata": {
  "kernelspec": {
   "display_name": "Python 3 (ipykernel)",
   "language": "python",
   "name": "python3"
  },
  "language_info": {
   "codemirror_mode": {
    "name": "ipython",
    "version": 3
   },
   "file_extension": ".py",
   "mimetype": "text/x-python",
   "name": "python",
   "nbconvert_exporter": "python",
   "pygments_lexer": "ipython3",
   "version": "3.9.12"
  }
 },
 "nbformat": 4,
 "nbformat_minor": 5
}
